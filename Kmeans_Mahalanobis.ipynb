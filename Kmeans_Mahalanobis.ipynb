{
 "cells": [
  {
   "cell_type": "code",
   "execution_count": 3,
   "id": "55ef56a5-498f-4da7-9c76-937809aadc14",
   "metadata": {},
   "outputs": [
    {
     "name": "stdout",
     "output_type": "stream",
     "text": [
      "Mean: [2.87144650e+02 2.50648949e-01 1.01071103e+01 6.22196820e-01\n",
      " 4.55667430e+04 1.97791144e+04]\n",
      "Std: [2.60450497e+03 5.65203888e-01 1.27602402e+01 1.02519294e+00\n",
      " 5.87030788e+06 4.02125319e+06]\n",
      "First normalized sample: [-0.11024922 -0.44346643 -0.79207837 -0.60690705 -0.0076786  -0.00491864]\n"
     ]
    }
   ],
   "source": [
    "import pandas as pd\n",
    "import numpy as np\n",
    "\n",
    "# Load NSL-KDD (adjust path to your dataset file)\n",
    "data = pd.read_csv('KDDTrain+.txt', header=None)\n",
    "\n",
    "# Define feature names and columns (based on NSL-KDD documentation)\n",
    "feature_names = ['duration', 'protocol_type', 'service', 'flag', 'src_bytes', 'dst_bytes']\n",
    "columns = [0, 1, 2, 3, 4, 5]  # Corresponding indices\n",
    "X = data[columns].copy()  # Use .copy() to avoid modifying original data\n",
    "\n",
    "# Convert categorical columns to numeric\n",
    "categorical_cols = [1, 2, 3]  # protocol_type, service, flag\n",
    "for col in categorical_cols:\n",
    "    X[col] = pd.factorize(X[col])[0]  # Convert strings to integers (e.g., 'tcp' -> 0, 'udp' -> 1)\n",
    "\n",
    "# Convert to numpy array and ensure float type\n",
    "X = X.values.astype(float)  # Ensure all data is numeric (float)\n",
    "\n",
    "# Normalize\n",
    "mean = np.mean(X, axis=0)\n",
    "std = np.std(X, axis=0)\n",
    "X_normalized = (X - mean) / std\n",
    "\n",
    "# Save for later use\n",
    "np.save('mean.npy', mean)\n",
    "np.save('std.npy', std)\n",
    "np.save('X_normalized.npy', X_normalized)\n",
    "\n",
    "# Verify\n",
    "print(\"Mean:\", mean)\n",
    "print(\"Std:\", std)\n",
    "print(\"First normalized sample:\", X_normalized[0])"
   ]
  },
  {
   "cell_type": "code",
   "execution_count": 2,
   "id": "abbc90bb-4cd5-4df5-acc2-0e3228c92464",
   "metadata": {},
   "outputs": [],
   "source": [
    "import numpy as np  # Add this line\n",
    "from sklearn.cluster import KMeans\n",
    "\n",
    "X_normalized = np.load('X_normalized.npy')\n",
    "kmeans = KMeans(n_clusters=2, random_state=42)\n",
    "kmeans.fit(X_normalized)\n",
    "centroids = kmeans.cluster_centers_\n",
    "np.save('centroids.npy', centroids)\n",
    "\n",
    "labels = kmeans.labels_\n",
    "cov_matrices = []\n",
    "for i in range(2):\n",
    "    cluster_data = X_normalized[labels == i]\n",
    "    cov = np.cov(cluster_data.T)\n",
    "    inv_cov = np.linalg.inv(cov)\n",
    "    cov_matrices.append(inv_cov)\n",
    "np.save('cov.npy', np.array(cov_matrices))"
   ]
  },
  {
   "cell_type": "code",
   "execution_count": null,
   "id": "359ee145-7842-432b-8c29-5bdcad84d3e7",
   "metadata": {},
   "outputs": [],
   "source": []
  },
  {
   "cell_type": "code",
   "execution_count": null,
   "id": "be54e5fd-30a2-45d4-aa08-3973c3c84bc3",
   "metadata": {},
   "outputs": [],
   "source": []
  }
 ],
 "metadata": {
  "kernelspec": {
   "display_name": "Python 3 (ipykernel)",
   "language": "python",
   "name": "python3"
  },
  "language_info": {
   "codemirror_mode": {
    "name": "ipython",
    "version": 3
   },
   "file_extension": ".py",
   "mimetype": "text/x-python",
   "name": "python",
   "nbconvert_exporter": "python",
   "pygments_lexer": "ipython3",
   "version": "3.12.9"
  }
 },
 "nbformat": 4,
 "nbformat_minor": 5
}
